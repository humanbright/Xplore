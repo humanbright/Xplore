{
 "cells": [
  {
   "cell_type": "code",
   "execution_count": 712,
   "metadata": {},
   "outputs": [],
   "source": [
    "import math\n",
    "import random\n",
    "\n",
    "def CreateInitialPopulation(size, graph, start_attraction, end_attraction, final_path_size):\n",
    "    \"\"\"Generates the initial population for the genetic algorithm\n",
    "    \n",
    "    Uses 50% chance of random initialization and 50% chance of nearest neighbor initialization\n",
    "\n",
    "    Args:\n",
    "        size (int): The size of the list (initial_population) to be returned.\n",
    "        graph (dict): A dictionary representing the graph of attractions.\n",
    "        start_attraction (str): The starting attraction.\n",
    "        end_attraction (str): The ending attraction.\n",
    "        final_path_size (int): The length of each path in the population.\n",
    "\n",
    "    Returns:\n",
    "        initial_population (list): A list of paths (a permutation of attractions) of size = size.\n",
    "    \"\"\"\n",
    "    initial_population = []\n",
    "    attractions = list(graph.keys())\n",
    "    \n",
    "    # Remove start and end attractions from the list of attractions to visit\n",
    "    attractions.remove(start_attraction)\n",
    "    attractions.remove(end_attraction)\n",
    "\n",
    "    for i in range(size):\n",
    "        path = [start_attraction]  # Initialize path with start_attraction\n",
    "        remaining_attractions = set(attractions)\n",
    "        \n",
    "        if random.random() < 1:\n",
    "            # Random initialization\n",
    "            path += random.sample(list(remaining_attractions), min(len(remaining_attractions), final_path_size - 2))\n",
    "        else:\n",
    "            # Nearest neighbor initialization\n",
    "            while len(path) < final_path_size - 1 and remaining_attractions:\n",
    "                last_attraction = path[-1]\n",
    "                nearest_attraction = min(\n",
    "                    remaining_attractions, \n",
    "                    key=lambda attraction: graph[last_attraction].get(attraction, float('inf'))\n",
    "                )\n",
    "                path.append(nearest_attraction)\n",
    "                remaining_attractions.remove(nearest_attraction)\n",
    "        \n",
    "        path.append(end_attraction)  # Append the end attraction to the path\n",
    "        initial_population.append(path)\n",
    "    \n",
    "    return initial_population\n",
    "\n"
   ]
  },
  {
   "cell_type": "code",
   "execution_count": 713,
   "metadata": {},
   "outputs": [],
   "source": [
    "def calculate_distance_attraction(graph, attraction1, attraction2):\n",
    "    \"\"\"Calculates the distance between two attractions based on a graph\n",
    "\n",
    "    Args:\n",
    "        graph (dict): A dictionary representing the graph of attractions.\n",
    "        attraction1 (str): The name of the first attraction.\n",
    "        attraction2 (str): The name of the second attraction.\n",
    "\n",
    "    Returns:\n",
    "        distance (float): The distance between the two attractions. Returns float('inf') if there is no direct path.\n",
    "    \"\"\"\n",
    "    # Return the distance from the graph if it exists, otherwise return infinity\n",
    "    return graph.get(attraction1, {}).get(attraction2, float('inf'))\n",
    "\n",
    "def CreateMatingPool(population, RankList, tournament_size=3):\n",
    "    \"\"\"\n",
    "    Implements tournament selection for a genetic algorithm's parent selection.\n",
    "    In each tournament, a subset of individuals is chosen at random, and the one with the best fitness\n",
    "    (highest rank) is selected for the mating pool.\n",
    "\n",
    "    Args:\n",
    "        population (list): A list of paths (each path is a list of attractions) from which the mating pool is to be created.\n",
    "        RankList (list): A list of tuples (index, fitness score) sorted in ascending order of fitness (lower is better).\n",
    "        tournament_size (int): The number of individuals to be selected for each tournament. Default is 3.\n",
    "\n",
    "    Returns:\n",
    "        mating_pool (list): A list of paths selected from the population to form the mating pool.\n",
    "    \"\"\"\n",
    "    \n",
    "    matingPool = []\n",
    "    \n",
    "    for _ in range(len(population)):\n",
    "        # Conduct a tournament\n",
    "        tournament = random.sample(RankList, tournament_size)\n",
    "        # Select the winner with the best fitness (lowest score)\n",
    "        winner = min(tournament, key=lambda item: item[1])\n",
    "        # Append the path corresponding to the winner to the mating pool\n",
    "        matingPool.append(population[winner[0]])\n",
    "                     \n",
    "    return matingPool"
   ]
  },
  {
   "cell_type": "code",
   "execution_count": 714,
   "metadata": {},
   "outputs": [],
   "source": [
    "def Crossover(Parent1, Parent2, Start_Index, End_Index):\n",
    "    \"\"\"Performs crossover between two parents and returns the child\n",
    "\n",
    "    Args:\n",
    "        Parent1 (list): The first parent (path of attractions)\n",
    "        Parent2 (list): The second parent (path of attractions)\n",
    "        Start_Index (int): The start index of the crossover section\n",
    "        End_Index (int): The end index of the crossover section\n",
    "\n",
    "    Returns:\n",
    "        child (list): The child generated after crossover\n",
    "    \"\"\"\n",
    "    child = []\n",
    "    \n",
    "    # Slice from Parent1 for the crossover section\n",
    "    p1_section = Parent1[Start_Index:End_Index]\n",
    "    \n",
    "    # Remainder of the attractions that will be filled in from Parent2\n",
    "    remainder = [attraction for attraction in Parent2 if attraction not in p1_section]\n",
    "    \n",
    "    # Construct the child: attractions before the crossover section from Parent2, \n",
    "    # the crossover section from Parent1, and the rest from Parent2\n",
    "    child = remainder[:Start_Index] + p1_section + remainder[Start_Index:]\n",
    "    \n",
    "    # Ensure that all attractions are included exactly once\n",
    "    # Find missing attractions and duplicate attractions in the child\n",
    "    all_attractions = set(Parent1)\n",
    "    child_attractions = set(child)\n",
    "    missing_attractions = list(all_attractions - child_attractions)\n",
    "    \n",
    "    # Check for any missing attractions in the child and replace the duplicates with the missing attractions\n",
    "    if missing_attractions:\n",
    "        for i in range(len(child)):\n",
    "            if child.count(child[i]) > 1:\n",
    "                child[i] = missing_attractions.pop()\n",
    "                \n",
    "                if not missing_attractions:\n",
    "                    break\n",
    "\n",
    "    return child\n"
   ]
  },
  {
   "cell_type": "code",
   "execution_count": 715,
   "metadata": {},
   "outputs": [],
   "source": [
    "def Mutate(Child, graph):\n",
    "    \"\"\"Mutates the child by performing one of two operations:\n",
    "    1. Reversing the order of a random subset of the child, excluding the first and last elements.\n",
    "    2. Replacing an attraction with an attraction not in the path, excluding the replacement of the first and last elements.\n",
    "\n",
    "    Args:\n",
    "        Child (list): The child to be mutated.\n",
    "        graph (dict): A dictionary representing the graph of attractions.\n",
    "\n",
    "    Returns:\n",
    "        Child (list): The mutated child.\n",
    "    \"\"\"\n",
    "    mutation_type = random.choice(['reverse', 'replace'])\n",
    "    \n",
    "    if mutation_type == 'reverse':\n",
    "        # Reverse mutation\n",
    "        if len(Child) > 3:  # Ensure there are elements to reverse (excluding the first and last)\n",
    "            start_index = random.randint(1, len(Child) - 3)\n",
    "            end_index = random.randint(start_index, len(Child) - 2)\n",
    "            Child[start_index:end_index+1] = Child[start_index:end_index+1][::-1]\n",
    "    \n",
    "    elif mutation_type == 'replace':\n",
    "        # Replacement mutation\n",
    "        # Ensure there's an element to replace (excluding the first and last)\n",
    "        if len(Child) > 2:\n",
    "            # Get all possible attractions that are not in the child\n",
    "            possible_replacements = set(graph.keys()) - set(Child)\n",
    "            if possible_replacements:\n",
    "                # Select a random attraction from the child to replace (excluding the start and end attractions)\n",
    "                index_to_replace = random.randint(1, len(Child) - 2)\n",
    "                # Select a random replacement attraction\n",
    "                replacement_attraction = random.choice(list(possible_replacements))\n",
    "                # Replace the attraction in the child\n",
    "                Child[index_to_replace] = replacement_attraction\n",
    "            \n",
    "    return Child\n"
   ]
  },
  {
   "cell_type": "code",
   "execution_count": 716,
   "metadata": {},
   "outputs": [],
   "source": [
    "def calculate_path_distance(graph, path):\n",
    "    \"\"\"Calculates the total distance of a path based on the graph distances.\n",
    "\n",
    "    Args:\n",
    "        graph (dict): A dictionary representing the graph of attractions.\n",
    "        path (list): A list of attractions representing the path.\n",
    "\n",
    "    Returns:\n",
    "        total_distance (float): The total distance of the given path.\n",
    "    \"\"\"\n",
    "    total_distance = 0\n",
    "    for i in range(len(path) - 1):\n",
    "        # Get the distance between the current attraction and the next, and add it to the total distance\n",
    "        total_distance += graph[path[i]].get(path[i + 1], float('inf'))\n",
    "    return total_distance\n"
   ]
  },
  {
   "cell_type": "code",
   "execution_count": 717,
   "metadata": {},
   "outputs": [
    {
     "name": "stdout",
     "output_type": "stream",
     "text": [
      "Attractions: ['AttractionA', 'AttractionB', 'AttractionC', 'AttractionD', 'AttractionE', 'AttractionF', 'AttractionG', 'AttractionH', 'AttractionI', 'AttractionJ']\n",
      "Start Attraction: AttractionA\n",
      "End Attraction: AttractionJ\n",
      "Generated Graph:\n",
      "AttractionA: {'AttractionB': 10, 'AttractionC': 23, 'AttractionD': 11, 'AttractionE': 42, 'AttractionF': 39, 'AttractionG': 27, 'AttractionH': 32, 'AttractionI': 15, 'AttractionJ': 22}\n",
      "AttractionB: {'AttractionA': 25, 'AttractionC': 10, 'AttractionD': 19, 'AttractionE': 48, 'AttractionF': 43, 'AttractionG': 50, 'AttractionH': 28, 'AttractionI': 19, 'AttractionJ': 38}\n",
      "AttractionC: {'AttractionA': 44, 'AttractionB': 18, 'AttractionD': 19, 'AttractionE': 35, 'AttractionF': 12, 'AttractionG': 12, 'AttractionH': 30, 'AttractionI': 27, 'AttractionJ': 50}\n",
      "AttractionD: {'AttractionA': 18, 'AttractionB': 23, 'AttractionC': 14, 'AttractionE': 34, 'AttractionF': 31, 'AttractionG': 19, 'AttractionH': 18, 'AttractionI': 34, 'AttractionJ': 13}\n",
      "AttractionE: {'AttractionA': 25, 'AttractionB': 48, 'AttractionC': 11, 'AttractionD': 44, 'AttractionF': 38, 'AttractionG': 14, 'AttractionH': 43, 'AttractionI': 44, 'AttractionJ': 10}\n",
      "AttractionF: {'AttractionA': 39, 'AttractionB': 21, 'AttractionC': 12, 'AttractionD': 50, 'AttractionE': 50, 'AttractionG': 23, 'AttractionH': 37, 'AttractionI': 23, 'AttractionJ': 11}\n",
      "AttractionG: {'AttractionA': 40, 'AttractionB': 33, 'AttractionC': 31, 'AttractionD': 20, 'AttractionE': 43, 'AttractionF': 17, 'AttractionH': 15, 'AttractionI': 47, 'AttractionJ': 34}\n",
      "AttractionH: {'AttractionA': 36, 'AttractionB': 49, 'AttractionC': 15, 'AttractionD': 44, 'AttractionE': 44, 'AttractionF': 12, 'AttractionG': 29, 'AttractionI': 12, 'AttractionJ': 43}\n",
      "AttractionI: {'AttractionA': 49, 'AttractionB': 11, 'AttractionC': 49, 'AttractionD': 14, 'AttractionE': 29, 'AttractionF': 29, 'AttractionG': 37, 'AttractionH': 26, 'AttractionJ': 46}\n",
      "AttractionJ: {'AttractionA': 25, 'AttractionB': 26, 'AttractionC': 36, 'AttractionD': 10, 'AttractionE': 18, 'AttractionF': 27, 'AttractionG': 22, 'AttractionH': 43, 'AttractionI': 41}\n"
     ]
    }
   ],
   "source": [
    "# Initial graph representing cities and distances between them\n",
    "# Function to generate attraction names\n",
    "def generate_attractions(num_attractions):\n",
    "    return [f'Attraction{chr(65 + i)}' for i in range(num_attractions)]\n",
    "\n",
    "# Function to generate a graph with random distances between attractions\n",
    "def generate_graph(attractions):\n",
    "    graph = {}\n",
    "    for attraction in attractions:\n",
    "        distances = {other_attraction: random.randint(10, 50) for other_attraction in attractions if other_attraction != attraction}\n",
    "        graph[attraction] = distances\n",
    "    return graph\n",
    "\n",
    "# Generate 10 attractions\n",
    "attractions = generate_attractions(10)\n",
    "attractions_graph = generate_graph(attractions)\n",
    "start_attraction = attractions[0]  # 'AttractionA'\n",
    "end_attraction = attractions[-1]  # 'AttractionJ' (if 10 attractions)\n",
    "\n",
    "print(\"Attractions:\", attractions)\n",
    "print(\"Start Attraction:\", start_attraction)\n",
    "print(\"End Attraction:\", end_attraction)\n",
    "print(\"Generated Graph:\")\n",
    "for attraction, distances in attractions_graph.items():\n",
    "    print(f\"{attraction}: {distances}\")\n",
    "\n"
   ]
  },
  {
   "cell_type": "code",
   "execution_count": 744,
   "metadata": {},
   "outputs": [
    {
     "data": {
      "text/plain": [
       "100"
      ]
     },
     "execution_count": 744,
     "metadata": {},
     "output_type": "execute_result"
    }
   ],
   "source": [
    "initial_pop_size = 100\n",
    "final_path_size = 8\n",
    "\n",
    "initial_mutation_rate = 0.2\n",
    "minimum_mutation_rate = 0.01\n",
    "\n",
    "population = CreateInitialPopulation(initial_pop_size, attractions_graph, start_attraction, end_attraction, final_path_size)\n",
    "len(population)"
   ]
  },
  {
   "cell_type": "code",
   "execution_count": 746,
   "metadata": {},
   "outputs": [
    {
     "name": "stdout",
     "output_type": "stream",
     "text": [
      "Best Path Distance (Initial): 123\n",
      "Worst Path Distance (Initial): 259\n"
     ]
    }
   ],
   "source": [
    "RankList = [(i, calculate_path_distance(attractions_graph, path)) for i, path in enumerate(population)]\n",
    "RankList.sort(key=lambda item: item[1])\n",
    "# First element of RankList is the best path\n",
    "print(\"Best Path Distance (Initial):\", RankList[0][1])\n",
    "\n",
    "# Last element of RankList is the worst path\n",
    "print(\"Worst Path Distance (Initial):\", RankList[-1][1])"
   ]
  },
  {
   "cell_type": "code",
   "execution_count": 747,
   "metadata": {},
   "outputs": [
    {
     "data": {
      "text/plain": [
       "123"
      ]
     },
     "execution_count": 747,
     "metadata": {},
     "output_type": "execute_result"
    }
   ],
   "source": [
    "mutation_rate = initial_mutation_rate\n",
    "\n",
    "currentBestFitness = RankList[0][1] # The last element in the RankList is the best fitness\n",
    "currentBestFitness"
   ]
  },
  {
   "cell_type": "code",
   "execution_count": 748,
   "metadata": {},
   "outputs": [
    {
     "data": {
      "text/plain": [
       "100"
      ]
     },
     "execution_count": 748,
     "metadata": {},
     "output_type": "execute_result"
    }
   ],
   "source": [
    "matingPool = CreateMatingPool(population, RankList)\n",
    "len(matingPool)"
   ]
  },
  {
   "cell_type": "code",
   "execution_count": 750,
   "metadata": {},
   "outputs": [
    {
     "data": {
      "text/plain": [
       "100"
      ]
     },
     "execution_count": 750,
     "metadata": {},
     "output_type": "execute_result"
    }
   ],
   "source": [
    "newPopulation = []\n",
    "for i in range(len(population)):\n",
    "    # Select two parents from the mating pool\n",
    "    Parent1 = matingPool[random.randint(0, len(matingPool)-1)]\n",
    "    Parent2 = matingPool[random.randint(0, len(matingPool)-1)]\n",
    "    \n",
    "    # Perform crossover between the two parents\n",
    "    crossover_start_index = random.randint(1, len(Parent1)-2)\n",
    "    crossover_end_index = random.randint(crossover_start_index, len(Parent1)-2)\n",
    "    Child = Crossover(Parent1, Parent2, crossover_start_index, crossover_end_index)\n",
    "    \n",
    "    # Mutate the child\n",
    "    if random.random() < mutation_rate:\n",
    "        Child = Mutate(Child, attractions_graph)\n",
    "    \n",
    "    # Add the child to the new population\n",
    "    newPopulation.append(Child)\n",
    "len(newPopulation)"
   ]
  },
  {
   "cell_type": "code",
   "execution_count": 752,
   "metadata": {},
   "outputs": [
    {
     "name": "stdout",
     "output_type": "stream",
     "text": [
      "Best Path Distance (Initial): 101\n",
      "Worst Path Distance (Initial): 268\n"
     ]
    }
   ],
   "source": [
    "RankList = [(i, calculate_path_distance(attractions_graph, path)) for i, path in enumerate(newPopulation)]\n",
    "RankList.sort(key=lambda item: item[1])\n",
    "currentBestFitness = RankList[0][1] # The last element in the RankList is the best fitness\n",
    "# First element of RankList is the best path\n",
    "print(\"Best Path Distance (Initial):\", RankList[0][1])\n",
    "\n",
    "# Last element of RankList is the worst path\n",
    "print(\"Worst Path Distance (Initial):\", RankList[-1][1])"
   ]
  },
  {
   "cell_type": "code",
   "execution_count": 772,
   "metadata": {},
   "outputs": [
    {
     "name": "stdout",
     "output_type": "stream",
     "text": [
      "At generation 0, the fitness improved from inf to 118\n",
      "At generation 2, the fitness improved from 118 to 104\n",
      "At generation 8, the fitness improved from 104 to 101\n",
      "At generation 17, the fitness improved from 101 to 93\n",
      "At generation 20, the fitness improved from 93 to 86\n"
     ]
    },
    {
     "data": {
      "text/plain": [
       "(['AttractionA',\n",
       "  'AttractionI',\n",
       "  'AttractionB',\n",
       "  'AttractionC',\n",
       "  'AttractionG',\n",
       "  'AttractionH',\n",
       "  'AttractionF',\n",
       "  'AttractionJ'],\n",
       " 86)"
      ]
     },
     "execution_count": 772,
     "metadata": {},
     "output_type": "execute_result"
    }
   ],
   "source": [
    "def run_genetic_algorithm(graph, initial_pop_size, start_attraction, end_attraction, final_path_size, generations, initial_mutation_rate, minimum_mutation_rate, debug = False):\n",
    "    \"\"\"Runs the genetic algorithm for itinerary planning.\n",
    "\n",
    "    Args:\n",
    "        graph (dict): The graph representing attractions and distances between them.\n",
    "        initial_pop_size (int): The size of the initial population.\n",
    "        start_attraction (str): The starting attraction.\n",
    "        end_attraction (str): The ending attraction.\n",
    "        final_path_size (int): The length of each path in the population.\n",
    "        generations (int): The number of generations to run the algorithm.\n",
    "        initial_mutation_rate (float): The initial mutation rate.\n",
    "        minimum_mutation_rate (float): The minimum mutation rate.\n",
    "\n",
    "    Returns:\n",
    "        bestPath (list): The best path found by the genetic algorithm.\n",
    "        bestFitness (float): The fitness of the best path.\n",
    "    \"\"\"\n",
    "    bestPath = []\n",
    "    bestFitness = float('inf')\n",
    "    decay_rate = (initial_mutation_rate - minimum_mutation_rate) / generations\n",
    "    population = CreateInitialPopulation(initial_pop_size, graph, start_attraction, end_attraction, final_path_size)\n",
    "\n",
    "    for generation in range(generations):\n",
    "        RankList = [(i, calculate_path_distance(graph, path)) for i, path in enumerate(population)]\n",
    "        RankList.sort(key=lambda item: item[1])\n",
    "        \n",
    "        mutation_rate = initial_mutation_rate - (generation * decay_rate)\n",
    "        mutation_rate = max(mutation_rate, minimum_mutation_rate)\n",
    "        \n",
    "        currentBestFitness = RankList[0][1]  # The first element in the RankList is the best fitness\n",
    "        \n",
    "        if currentBestFitness < bestFitness:\n",
    "            if debug:\n",
    "                print(f\"At generation {generation}, the fitness improved from {bestFitness} to {currentBestFitness}\")\n",
    "            bestFitness = currentBestFitness\n",
    "            bestPath = population[RankList[0][0]]\n",
    "            \n",
    "        matingPool = CreateMatingPool(population, RankList)\n",
    "        \n",
    "        newPopulation = []\n",
    "        \n",
    "        size = len(population)\n",
    "        for i in range(size//2):\n",
    "            # Select two parents from the mating pool\n",
    "            Parent1 = matingPool[random.randint(0, len(matingPool)-1)]\n",
    "            Parent2 = matingPool[random.randint(0, len(matingPool)-1)]\n",
    "            \n",
    "            # Select the crossover section ignoring the first and last attractions        \n",
    "            start_index = random.randint(1, len(Parent1)-2)\n",
    "            end_index = random.randint(start_index, len(Parent1)-2)\n",
    "            \n",
    "            child = Crossover(Parent1, Parent2, start_index, end_index)\n",
    "            \n",
    "            # Randomly mutate the child\n",
    "            if random.random() < mutation_rate:\n",
    "                child = Mutate(child, graph)\n",
    "                \n",
    "            newPopulation.append(child)\n",
    "            \n",
    "        # Retain size/2 best individuals from the previous population\n",
    "        newPopulation += population[:size//2]\n",
    "        population = newPopulation\n",
    "\n",
    "    return bestPath, bestFitness\n",
    "\n",
    "run_genetic_algorithm(attractions_graph, initial_pop_size, start_attraction, end_attraction, final_path_size, 100, initial_mutation_rate, minimum_mutation_rate, debug=True)\n"
   ]
  },
  {
   "cell_type": "code",
   "execution_count": null,
   "metadata": {},
   "outputs": [],
   "source": [
    "def create_graph_with_manhattan_distances(places):\n",
    "    \"\"\"\n",
    "    Create a graph where nodes are attractions with provided latitudes and longitudes,\n",
    "    and edges are the Manhattan distances between these attractions.\n",
    "\n",
    "    Args:\n",
    "        places (list of dicts): Each dict contains 'name', 'lat', and 'long' keys for an attraction.\n",
    "\n",
    "    Returns:\n",
    "        dict: Graph representing attractions and Manhattan distances between them.\n",
    "    \"\"\"\n",
    "    attractions = [place['name'] for place in places]  # Extracting attraction names\n",
    "    graph = {}\n",
    "\n",
    "    # Generate distances between each pair of attractions\n",
    "    for i, place1 in enumerate(places):\n",
    "        attraction1 = place1['name']\n",
    "        graph[attraction1] = {}\n",
    "        for j, place2 in enumerate(places):\n",
    "            attraction2 = place2['name']\n",
    "            if i != j:\n",
    "                # Calculate Manhattan distance\n",
    "                distance = abs(place1['lat'] - place2['lat']) + abs(place1['long'] - place2['long'])\n",
    "                graph[attraction1][attraction2] = distance\n",
    "\n",
    "    return graph\n",
    "\n",
    "# Example usage:\n",
    "places = [\n",
    "    {'name': 'AttractionA', 'lat': 40.7128, 'long': -74.0060},\n",
    "    {'name': 'AttractionB', 'lat': 34.0522, 'long': -118.2437},\n",
    "    # ... add more places\n",
    "]\n",
    "attractions_graph = create_graph_with_manhattan_distances(places)\n",
    "\n",
    "for attraction, distances in attractions_graph.items():\n",
    "    print(f\"{attraction}: {distances}\")\n"
   ]
  }
 ],
 "metadata": {
  "kernelspec": {
   "display_name": "Python 3",
   "language": "python",
   "name": "python3"
  },
  "language_info": {
   "codemirror_mode": {
    "name": "ipython",
    "version": 3
   },
   "file_extension": ".py",
   "mimetype": "text/x-python",
   "name": "python",
   "nbconvert_exporter": "python",
   "pygments_lexer": "ipython3",
   "version": "3.10.11"
  }
 },
 "nbformat": 4,
 "nbformat_minor": 2
}
