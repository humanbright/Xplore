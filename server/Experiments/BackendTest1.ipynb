{
 "cells": [
  {
   "cell_type": "code",
   "execution_count": 1,
   "metadata": {},
   "outputs": [
    {
     "data": {
      "text/plain": [
       "True"
      ]
     },
     "execution_count": 1,
     "metadata": {},
     "output_type": "execute_result"
    }
   ],
   "source": [
    "import os\n",
    "from dotenv import load_dotenv\n",
    "load_dotenv()"
   ]
  },
  {
   "cell_type": "code",
   "execution_count": 24,
   "metadata": {},
   "outputs": [],
   "source": [
    "from openai import OpenAI\n",
    "import json\n",
    "\n",
    "def create_client():\n",
    "    return OpenAI(\n",
    "        api_key=os.environ.get(\"OPENAI_API_KEY\"),\n",
    "    )\n",
    "\n",
    "def setup_content(location: str, preferences: str):\n",
    "    return f\"I am traveling to {location}, and I want to visit attractions around this area that fit these criteria: {preferences}. Generate a list of 10 attraction objects and return each attraction name and entire address\" \n",
    "\n",
    "def get_response(client, content: str):\n",
    "    return client.chat.completions.create(\n",
    "        model=\"gpt-4-turbo-preview\",\n",
    "        response_format={ \"type\": \"json_object\" },\n",
    "        messages=[\n",
    "            {\"role\": \"system\", \"content\": \"You are a helpful travel assistant designed to output JSON containing a list of objects that have atrribute name and address.\"},\n",
    "            {\"role\": \"user\", \"content\": content,}\n",
    "        ],\n",
    "    )\n",
    "\n",
    "def get_locations(location: str, preferences: str = None):\n",
    "\n",
    "    client = create_client()\n",
    "    chat_completion = get_response(client,  setup_content(location, preferences))\n",
    "\n",
    "    return json.loads(chat_completion.choices[0].message.content)[\"attractions\"]"
   ]
  },
  {
   "cell_type": "markdown",
   "metadata": {},
   "source": [
    "<h2>Melissa Functions</h2>"
   ]
  },
  {
   "cell_type": "code",
   "execution_count": 29,
   "metadata": {},
   "outputs": [],
   "source": [
    "import xmltodict\n",
    "import urllib.request, urllib.parse\n",
    "\n",
    "def make_url(address: str):\n",
    "    melissa_url = \"https://address.melissadata.net/v3/WEB/GlobalAddress/doGlobalAddress?\" + urllib.parse.urlencode([('id', os.environ.get(\"MELISSA_API_KEY\")), ('opt', \"OutputGeo:ON\"), ('a1', address)])\n",
    "    print(melissa_url)\n",
    "    return melissa_url\n",
    "\n",
    "def make_request(url: str):\n",
    "    request = urllib.request.Request(url)\n",
    "    response = urllib.request.urlopen(request)\n",
    "    if response.getcode() == 200:\n",
    "        return response.read().decode(encoding = 'utf-8')\n",
    "\n",
    "def get_coords(location: str) -> tuple:\n",
    "    req = make_request(make_url(location))\n",
    "    response = xmltodict.parse(req)\n",
    "    try:\n",
    "        latitude = response['Response']['Records']['ResponseRecord']['Latitude']\n",
    "        longitude = response['Response']['Records']['ResponseRecord']['Longitude']\n",
    "    except KeyError:\n",
    "        print(\"Invalid address\")\n",
    "        latitude = None\n",
    "        longitude = None\n",
    "    return (latitude, longitude)\n",
    "    \n",
    "def manhattan_distance(lat1, lon1, lat2, lon2):\n",
    "    lat_diff = abs(lat1 - lat2)\n",
    "    lon_diff = abs(lon1 - lon2)\n",
    "    return lat_diff + lon_diff\n"
   ]
  },
  {
   "cell_type": "code",
   "execution_count": 30,
   "metadata": {},
   "outputs": [
    {
     "name": "stdout",
     "output_type": "stream",
     "text": [
      "5 Riparian View, Irvine, CA 92612, United States\n",
      "https://address.melissadata.net/v3/WEB/GlobalAddress/doGlobalAddress?id=h7JJYwkNrxXkA7DLt0ebaU%2A%2AnSAcwXpxhQ0PC2lXxuDAZ-%2A%2A&opt=OutputGeo%3AON&a1=5+Riparian+View%2C+Irvine%2C+CA+92612%2C+United+States\n",
      "Invalid address\n",
      "18712 University Dr, Irvine, CA 92612, United States\n",
      "https://address.melissadata.net/v3/WEB/GlobalAddress/doGlobalAddress?id=h7JJYwkNrxXkA7DLt0ebaU%2A%2AnSAcwXpxhQ0PC2lXxuDAZ-%2A%2A&opt=OutputGeo%3AON&a1=18712+University+Dr%2C+Irvine%2C+CA+92612%2C+United+States\n",
      "Invalid address\n",
      "Shady Canyon, Irvine, CA, United States\n",
      "https://address.melissadata.net/v3/WEB/GlobalAddress/doGlobalAddress?id=h7JJYwkNrxXkA7DLt0ebaU%2A%2AnSAcwXpxhQ0PC2lXxuDAZ-%2A%2A&opt=OutputGeo%3AON&a1=Shady+Canyon%2C+Irvine%2C+CA%2C+United+States\n",
      "Invalid address\n",
      "34 Shady Canyon Dr, Irvine, CA 92603, United States\n",
      "https://address.melissadata.net/v3/WEB/GlobalAddress/doGlobalAddress?id=h7JJYwkNrxXkA7DLt0ebaU%2A%2AnSAcwXpxhQ0PC2lXxuDAZ-%2A%2A&opt=OutputGeo%3AON&a1=34+Shady+Canyon+Dr%2C+Irvine%2C+CA+92603%2C+United+States\n",
      "Invalid address\n",
      "670 Spectrum Center Dr, Irvine, CA 92618, United States\n",
      "https://address.melissadata.net/v3/WEB/GlobalAddress/doGlobalAddress?id=h7JJYwkNrxXkA7DLt0ebaU%2A%2AnSAcwXpxhQ0PC2lXxuDAZ-%2A%2A&opt=OutputGeo%3AON&a1=670+Spectrum+Center+Dr%2C+Irvine%2C+CA+92618%2C+United+States\n",
      "Invalid address\n",
      "Irvine, CA 92697, United States\n",
      "https://address.melissadata.net/v3/WEB/GlobalAddress/doGlobalAddress?id=h7JJYwkNrxXkA7DLt0ebaU%2A%2AnSAcwXpxhQ0PC2lXxuDAZ-%2A%2A&opt=OutputGeo%3AON&a1=Irvine%2C+CA+92697%2C+United+States\n",
      "Invalid address\n",
      "8000 Great Park Blvd, Irvine, CA 92618, United States\n",
      "https://address.melissadata.net/v3/WEB/GlobalAddress/doGlobalAddress?id=h7JJYwkNrxXkA7DLt0ebaU%2A%2AnSAcwXpxhQ0PC2lXxuDAZ-%2A%2A&opt=OutputGeo%3AON&a1=8000+Great+Park+Blvd%2C+Irvine%2C+CA+92618%2C+United+States\n",
      "Invalid address\n",
      "5380 3/4 University Dr, Irvine, CA 92612, United States\n",
      "https://address.melissadata.net/v3/WEB/GlobalAddress/doGlobalAddress?id=h7JJYwkNrxXkA7DLt0ebaU%2A%2AnSAcwXpxhQ0PC2lXxuDAZ-%2A%2A&opt=OutputGeo%3AON&a1=5380+3%2F4+University+Dr%2C+Irvine%2C+CA+92612%2C+United+States\n",
      "Invalid address\n",
      "Irvine, CA 92603, United States\n",
      "https://address.melissadata.net/v3/WEB/GlobalAddress/doGlobalAddress?id=h7JJYwkNrxXkA7DLt0ebaU%2A%2AnSAcwXpxhQ0PC2lXxuDAZ-%2A%2A&opt=OutputGeo%3AON&a1=Irvine%2C+CA+92603%2C+United+States\n",
      "Invalid address\n",
      "1 Sunnyhill, Irvine, CA 92603, United States\n",
      "https://address.melissadata.net/v3/WEB/GlobalAddress/doGlobalAddress?id=h7JJYwkNrxXkA7DLt0ebaU%2A%2AnSAcwXpxhQ0PC2lXxuDAZ-%2A%2A&opt=OutputGeo%3AON&a1=1+Sunnyhill%2C+Irvine%2C+CA+92603%2C+United+States\n",
      "Invalid address\n",
      "[{'name': 'San Joaquin Marsh & Wildlife Sanctuary', 'address': '5 Riparian View, Irvine, CA 92612, United States', 'lat': None, 'lon': None}, {'name': 'William R. Mason Regional Park', 'address': '18712 University Dr, Irvine, CA 92612, United States', 'lat': None, 'lon': None}, {'name': 'Shady Canyon Trail', 'address': 'Shady Canyon, Irvine, CA, United States', 'lat': None, 'lon': None}, {'name': 'Quail Hill Trailhead', 'address': '34 Shady Canyon Dr, Irvine, CA 92603, United States', 'lat': None, 'lon': None}, {'name': 'Irvine Spectrum Center Ferris Wheel', 'address': '670 Spectrum Center Dr, Irvine, CA 92618, United States', 'lat': None, 'lon': None}, {'name': 'Aldrich Park', 'address': 'Irvine, CA 92697, United States', 'lat': None, 'lon': None}, {'name': 'Orange County Great Park', 'address': '8000 Great Park Blvd, Irvine, CA 92618, United States', 'lat': None, 'lon': None}, {'name': 'Tanaka Farms', 'address': '5380 3/4 University Dr, Irvine, CA 92612, United States', 'lat': None, 'lon': None}, {'name': 'Bommer Canyon', 'address': 'Irvine, CA 92603, United States', 'lat': None, 'lon': None}, {'name': 'Turtle Rock Community Park', 'address': '1 Sunnyhill, Irvine, CA 92603, United States', 'lat': None, 'lon': None}]\n"
     ]
    }
   ],
   "source": [
    "# locations = get_locations(\"UC Irvine\", \"nature\")\n",
    "for location in locations:\n",
    "    print(location['address'])\n",
    "    coords = get_coords(location['address'])\n",
    "    location[\"lat\"], location[\"lon\"] = coords[0], coords[1]\n",
    "\n",
    "print(locations)\n"
   ]
  },
  {
   "cell_type": "code",
   "execution_count": null,
   "metadata": {},
   "outputs": [],
   "source": []
  }
 ],
 "metadata": {
  "kernelspec": {
   "display_name": "Python 3",
   "language": "python",
   "name": "python3"
  },
  "language_info": {
   "codemirror_mode": {
    "name": "ipython",
    "version": 3
   },
   "file_extension": ".py",
   "mimetype": "text/x-python",
   "name": "python",
   "nbconvert_exporter": "python",
   "pygments_lexer": "ipython3",
   "version": "3.11.5"
  }
 },
 "nbformat": 4,
 "nbformat_minor": 2
}
