{
 "cells": [
  {
   "cell_type": "code",
   "execution_count": 1,
   "metadata": {},
   "outputs": [
    {
     "data": {
      "text/plain": [
       "True"
      ]
     },
     "execution_count": 1,
     "metadata": {},
     "output_type": "execute_result"
    }
   ],
   "source": [
    "import asyncio\n",
    "import requests\n",
    "import json\n",
    "import os\n",
    "from dotenv import load_dotenv\n",
    "load_dotenv()"
   ]
  },
  {
   "cell_type": "markdown",
   "metadata": {},
   "source": [
    "<h3>GraphQL Query Creator</h3>"
   ]
  },
  {
   "cell_type": "code",
   "execution_count": 2,
   "metadata": {},
   "outputs": [],
   "source": [
    "\n",
    "\n",
    "def generate_yelp_graphql_query(search_locations):\n",
    "    \"\"\"\n",
    "    Generates a GraphQL query for the Yelp API based on a list of search locations.\n",
    "\n",
    "    Parameters:\n",
    "    - search_locations (list): A list of dictionaries, each containing 'name', 'address', 'city', 'state', and 'country' keys.\n",
    "\n",
    "    Returns:\n",
    "    - str: A GraphQL query string for the provided search locations.\n",
    "    \"\"\"\n",
    "    query_parts = [\"query MyQuery{\"]\n",
    "    for index, location in enumerate(search_locations):\n",
    "        # Sanitize the name by removing spaces and special characters\n",
    "        sanitized_name = ''.join(e for e in location['name'] if e.isalnum())\n",
    "        unique_name = f\"search{sanitized_name}{index}\"\n",
    "        query_parts.append(\n",
    "            f\"{unique_name}: business_match(\"\n",
    "            f\"address1: \\\"{location['address']}\\\", \"\n",
    "            f\"city: \\\"{location['city']}\\\", \"\n",
    "            f\"country: \\\"{location['country']}\\\", \"\n",
    "            f\"name: \\\"{location['name']}\\\", \"\n",
    "            f\"state: \\\"{location['state']}\\\"\"\n",
    "            \") {\"\n",
    "            \"  business {\"\n",
    "            \"    name\"\n",
    "            \"    photos\"\n",
    "            \"    rating\"\n",
    "            \"    coordinates {\"\n",
    "            \"      latitude\"\n",
    "            \"      longitude\"\n",
    "            \"    }\"\n",
    "            \"    location {\"\n",
    "            \"      formatted_address\"\n",
    "            \"    }\"\n",
    "            \"  }\"\n",
    "            \"}\"\n",
    "        )\n",
    "    query_parts.append(\"}\")\n",
    "    query = \" \".join(query_parts)\n",
    "    return json.dumps({\"query\": query})\n",
    "\n",
    "    # \"\"\"\n",
    "    # Generates a GraphQL query for the Yelp API based on a list of search locations.\n",
    "\n",
    "    # Parameters:\n",
    "    # - search_locations (list): A list of dictionaries, each containing 'name' and 'address' keys.\n",
    "\n",
    "    # Returns:\n",
    "    # - str: A GraphQL query string for the provided search locations.\n",
    "    # \"\"\"\n",
    "    # query_parts = [\"query MyQuery{\"]\n",
    "    # for index, location in enumerate(search_locations):\n",
    "    #     print(location)\n",
    "    #     unique_name = f\"search{location['name'].replace(' ', '')}{index}\"\n",
    "    #     query_parts.append(\n",
    "    #         f\"{unique_name}: business_match(location: \\\"{location['address']}\\\", limit: 1) {{\"\n",
    "    #         \"  business {\"\n",
    "    #         \"    name\"\n",
    "    #         \"    photos\"\n",
    "    #         \"    rating\"\n",
    "    #         \"    coordinates {\"\n",
    "    #         \"      latitude\"\n",
    "    #         \"      longitude\"\n",
    "    #         \"    }\"\n",
    "    #         \"    location {\"\n",
    "    #         \"      formatted_address\"\n",
    "    #         \"    }\"\n",
    "    #         \"  }\"\n",
    "    #         \"}\"\n",
    "    #     )\n",
    "    # query_parts.append(\"}\")\n",
    "    # query = \" \".join(query_parts)\n",
    "    # return json.dumps({\"query\": query})"
   ]
  },
  {
   "cell_type": "markdown",
   "metadata": {},
   "source": [
    "<h3>Yelp API Output Parser</h3>"
   ]
  },
  {
   "cell_type": "code",
   "execution_count": 3,
   "metadata": {},
   "outputs": [],
   "source": [
    "def parse_yelp_response(response_text):\n",
    "    \"\"\"\n",
    "    Parses the Yelp GraphQL API response and formats it into a list of dictionaries.\n",
    "\n",
    "    Parameters:\n",
    "    - response_text (str): The JSON response text from the Yelp API.\n",
    "\n",
    "    Returns:\n",
    "    - list: A list of dictionaries, each containing 'name', 'address', 'photo', 'rating', 'lat', and 'lon'.\n",
    "    \"\"\"\n",
    "    print(response_text)\n",
    "    data = json.loads(response_text).get('data', {})\n",
    "    formatted_results = []\n",
    "\n",
    "    for search_key, search_result in data.items():\n",
    "        for business in search_result.get('business', []):\n",
    "            formatted_results.append({\n",
    "                'name': business.get('name'),\n",
    "                'address': business['location']['formatted_address'].replace('\\n', ' '),\n",
    "                'photo': business['photos'][0] if business['photos'] else None,\n",
    "                'rating': business.get('rating'),\n",
    "                'lat': business['coordinates'].get('latitude'),\n",
    "                'lon': business['coordinates'].get('longitude')\n",
    "            })\n",
    "\n",
    "    return formatted_results"
   ]
  },
  {
   "cell_type": "markdown",
   "metadata": {},
   "source": [
    "<h3>Yelp API BATCH Wrapper</h3>"
   ]
  },
  {
   "cell_type": "code",
   "execution_count": 4,
   "metadata": {},
   "outputs": [],
   "source": [
    "async def yelp_batch_wrapper(search_locations):\n",
    "    \"\"\"\n",
    "    Fetches data from Yelp API asynchronously using GraphQL.\n",
    "\n",
    "    Parameters:\n",
    "    - search_locations (list): A list of dictionaries with 'name' and 'address' for search locations.\n",
    "    - headers (dict): Headers to include in the request.\n",
    "\n",
    "    Returns:\n",
    "    - dict: Parsed JSON response from the Yelp API.\n",
    "    \"\"\"\n",
    "    url = \"https://api.yelp.com/v3/graphql\"\n",
    "    payload = generate_yelp_graphql_query(search_locations)\n",
    "    headers = {\n",
    "        'Content-Type': 'application/json',\n",
    "        'Authorization': f\"Bearer {os.getenv('YELP_API_KEY')}\"\n",
    "    }\n",
    "    try:\n",
    "        response = await asyncio.to_thread(requests.post, url, headers=headers, data=payload)\n",
    "        response.raise_for_status()  # Will raise an HTTPError if the HTTP request returned an unsuccessful status code\n",
    "        return parse_yelp_response(response.text)\n",
    "    except requests.exceptions.HTTPError as err:\n",
    "        print(f\"HTTP error occurred: {err}\")\n",
    "    except Exception as err:\n",
    "        print(f\"An error occurred: {err}\")"
   ]
  },
  {
   "cell_type": "markdown",
   "metadata": {},
   "source": [
    "<h3>Yelp API Location Wrapper</h3>"
   ]
  },
  {
   "cell_type": "code",
   "execution_count": 5,
   "metadata": {},
   "outputs": [],
   "source": [
    "async def yelp_wrapper(location, term=\"attractions\", radius=20000, sort_by=\"best_match\", limit=20):\n",
    "    # Get a list of locations from Yelp API\n",
    "    params = {\n",
    "        \"location\": location,\n",
    "        \"term\": term,\n",
    "        \"radius\": radius,\n",
    "        \"sort_by\": sort_by,\n",
    "        \"limit\": limit\n",
    "    }\n",
    "    yelp_url = f\"https://api.yelp.com/v3/businesses/search?{urllib.parse.urlencode(params)}\"\n",
    "    yelp_header = {\n",
    "        \"accept\": \"application/json\",\n",
    "        \"Authorization\": f\"Bearer {os.getenv('YELP_API_KEY')}\"\n",
    "    }\n",
    "    response = await asyncio.to_thread(requests.get, yelp_url, headers=yelp_header)\n",
    "    if response.status_code == 200:\n",
    "        yelp_data = response.json()\n",
    "        # Parse and format the response\n",
    "        formatted_locations = [\n",
    "            {\n",
    "                \"name\": business.get(\"name\"),\n",
    "                \"address\": \" \".join(business[\"location\"].get(\"display_address\", [])),\n",
    "                \"photo\": business.get(\"image_url\"),\n",
    "                \"rating\": business.get(\"rating\"),\n",
    "                \"description\": \", \".join(category[\"title\"] for category in business.get(\"categories\", [])),\n",
    "                \"lat\": business[\"coordinates\"].get(\"latitude\"),\n",
    "                \"lon\": business[\"coordinates\"].get(\"longitude\")\n",
    "            }\n",
    "            for business in yelp_data.get(\"businesses\", [])\n",
    "        ]\n",
    "        \n",
    "        \n",
    "    \n",
    "        return json.dumps(formatted_locations)\n",
    "    \n",
    "    else:\n",
    "        response.raise_for_status()"
   ]
  },
  {
   "cell_type": "markdown",
   "metadata": {},
   "source": [
    "<h3>OpenAI Wrapper</h3>"
   ]
  },
  {
   "cell_type": "code",
   "execution_count": 6,
   "metadata": {},
   "outputs": [],
   "source": [
    "from openai import AsyncOpenAI\n",
    "\n",
    "async def openai_wrapper(location, preferences = \"\"):\n",
    "    # Get a list of 10 locations form OpenAI api\n",
    "    openai_client = AsyncOpenAI(api_key=os.environ.get(\"OPENAI_API_KEY\"))\n",
    "    print(location, preferences)\n",
    "    client_content = f\"\"\"\n",
    "I am traveling to {location}, and I want to visit attractions around this area that fit these criteria: {preferences}.\n",
    "Generate a list of 10 attraction objects and return in this format:\n",
    "{{\n",
    "    \"attractions\": [\n",
    "        {{\n",
    "            \"name\": \"<name>\",\n",
    "            \"address\": \"<street address>\",\n",
    "            \"city\": \"<city>\",\n",
    "            \"state\": \"<state>\",\n",
    "            \"country\": \"<country>\",\n",
    "        }}\n",
    "    ]\n",
    "}}\n",
    "\"\"\"\n",
    "    chat_completion = await openai_client.chat.completions.create(\n",
    "        model=\"gpt-4-turbo-preview\",\n",
    "        response_format={ \"type\": \"json_object\" },\n",
    "        messages=[\n",
    "            {\"role\": \"system\", \"content\": \"You are a helpful travel assistant designed to output JSON containing a list of objects that have atrribute name and address.\"},\n",
    "            {\"role\": \"user\", \"content\": client_content}\n",
    "        ],\n",
    "    )\n",
    "    return json.loads(chat_completion.choices[0].message.content)[\"attractions\"]"
   ]
  },
  {
   "cell_type": "markdown",
   "metadata": {},
   "source": [
    "<h3>Attractions Wrapper</h3>"
   ]
  },
  {
   "cell_type": "code",
   "execution_count": 8,
   "metadata": {},
   "outputs": [],
   "source": [
    "async def attractions_wrapper(location, preferences=\"\"):\n",
    "    # Get results from OpenAI\n",
    "    openai_result = await openai_wrapper(location, preferences)\n",
    "    \n",
    "    # Add a source field to OpenAI results\n",
    "    # openai_result_with_source = [{**attraction, \"source\": \"openai\"} for attraction in openai_result]\n",
    "    \n",
    "    # Feed addresses from openai_result back into yelp_wrapper\n",
    "    print(openai_result)\n",
    "    yelp_results = await yelp_batch_wrapper(openai_result)\n",
    "    \n",
    "    print(yelp_results)\n",
    "    # yelp_results_from_openai = await asyncio.gather(*yelp_tasks)\n",
    "    \n",
    "    # Parse the new Yelp results and mark them as from Yelp\n",
    "    # yelp_results_from_openai_with_source = []\n",
    "    # for yelp_result in yelp_results_from_openai:\n",
    "    #     for attraction in json.loads(yelp_result):\n",
    "    #         yelp_results_from_openai_with_source.append({**attraction, \"source\": \"yelp\"})\n",
    "    \n",
    "    # # Get initial Yelp results\n",
    "    # initial_yelp_result = await yelp_wrapper(location, preferences)\n",
    "    # initial_yelp_result_with_source = [{**attraction, \"source\": \"yelp\"} for attraction in json.loads(initial_yelp_result)]\n",
    "    \n",
    "    # # Combine all results\n",
    "    # combined_results = openai_result_with_source + yelp_results_from_openai_with_source + initial_yelp_result_with_source\n",
    "    \n",
    "    # # Deduplicate combined results based on name and address\n",
    "    # seen = set()\n",
    "    # unique_results = []\n",
    "    # for result in combined_results:\n",
    "    #     identifier = (result['name'].lower(), result['address'].lower())\n",
    "    #     if identifier not in seen:\n",
    "    #         seen.add(identifier)\n",
    "    #         unique_results.append(result)\n",
    "    \n",
    "    # return unique_results\n",
    "# async def attractions_wrapper(location, preferences=\"\"):\n",
    "#     # Run both openai_wrapper and yelp_wrapper concurrently\n",
    "#     openai_result, yelp_result = await asyncio.gather(\n",
    "#         openai_wrapper(location, preferences),\n",
    "#         yelp_wrapper(location, preferences)\n",
    "#     )\n",
    "    \n",
    "#     print(openai_result)\n",
    "#     # print(yelp_result)\n",
    "#     return yelp_result\n",
    "    \n",
    "#     # return {\"OpenAI\": openai_result, \"Yelp\": yelp_result}"
   ]
  },
  {
   "cell_type": "code",
   "execution_count": 9,
   "metadata": {},
   "outputs": [
    {
     "name": "stdout",
     "output_type": "stream",
     "text": [
      "San Francisco, CA museum\n",
      "[{'name': 'San Francisco Museum of Modern Art (SFMOMA)', 'address': '151 3rd St', 'city': 'San Francisco', 'state': 'CA', 'country': 'USA'}, {'name': 'California Academy of Sciences', 'address': '55 Music Concourse Dr', 'city': 'San Francisco', 'state': 'CA', 'country': 'USA'}, {'name': 'Exploratorium', 'address': 'Pier 15, The Embarcadero & Green St.', 'city': 'San Francisco', 'state': 'CA', 'country': 'USA'}, {'name': 'de Young Museum', 'address': '50 Hagiwara Tea Garden Dr', 'city': 'San Francisco', 'state': 'CA', 'country': 'USA'}, {'name': 'Asian Art Museum', 'address': '200 Larkin St', 'city': 'San Francisco', 'state': 'CA', 'country': 'USA'}, {'name': 'Museum of the African Diaspora', 'address': '685 Mission St', 'city': 'San Francisco', 'state': 'CA', 'country': 'USA'}, {'name': 'Contemporary Jewish Museum', 'address': '736 Mission St', 'city': 'San Francisco', 'state': 'CA', 'country': 'USA'}, {'name': 'Legion of Honor', 'address': '100 34th Ave', 'city': 'San Francisco', 'state': 'CA', 'country': 'USA'}, {'name': 'Walt Disney Family Museum', 'address': '104 Montgomery St', 'city': 'San Francisco', 'state': 'CA', 'country': 'USA'}, {'name': 'San Francisco Railway Museum', 'address': '77 Steuart St', 'city': 'San Francisco', 'state': 'CA', 'country': 'USA'}]\n",
      "{\"data\":{\"searchSanFranciscoMuseumofModernArtSFMOMA0\":{\"business\":[{\"name\":\"San Francisco Museum of Modern Art\",\"photos\":[\"https://s3-media1.fl.yelpcdn.com/bphoto/TRvV2DUGQYrpT9FoiDiYrw/o.jpg\"],\"rating\":4.0,\"coordinates\":{\"latitude\":37.785716,\"longitude\":-122.40105},\"location\":{\"formatted_address\":\"151 3rd St\\nSan Francisco, CA 94103\"}}]},\"searchCaliforniaAcademyofSciences1\":{\"business\":[{\"name\":\"California Academy of Sciences\",\"photos\":[\"https://s3-media4.fl.yelpcdn.com/bphoto/_KhfOj3kE5zCMXEGcBvdGA/o.jpg\"],\"rating\":4.0,\"coordinates\":{\"latitude\":37.769816,\"longitude\":-122.466041},\"location\":{\"formatted_address\":\"55 Music Concourse Dr\\nSan Francisco, CA 94118\"}}]},\"searchExploratorium2\":{\"business\":[{\"name\":\"Exploratorium Store\",\"photos\":[\"https://s3-media4.fl.yelpcdn.com/bphoto/TFiK60DDBCpZKfaozyFWjA/o.jpg\"],\"rating\":4.0,\"coordinates\":{\"latitude\":37.8011969,\"longitude\":-122.3988986},\"location\":{\"formatted_address\":\"Pier 15\\nSan Francisco, CA 94111\"}}]},\"searchdeYoungMuseum3\":{\"business\":[{\"name\":\"de Young Museum\",\"photos\":[\"https://s3-media2.fl.yelpcdn.com/bphoto/QwmWojBUUp2ZpCabXv5q8Q/o.jpg\"],\"rating\":4.0,\"coordinates\":{\"latitude\":37.77132920111635,\"longitude\":-122.46838802066397},\"location\":{\"formatted_address\":\"50 Hagiwara Tea Garden Dr\\nGolden Gate Park\\nSan Francisco, CA 94118\"}}]},\"searchAsianArtMuseum4\":{\"business\":[{\"name\":\"Asian Art Museum\",\"photos\":[\"https://s3-media2.fl.yelpcdn.com/bphoto/Qqqxey1v_fLcAjtRdh9s-g/o.jpg\"],\"rating\":4.5,\"coordinates\":{\"latitude\":37.7796308,\"longitude\":-122.4165973},\"location\":{\"formatted_address\":\"200 Larkin St\\nSan Francisco, CA 94102\"}}]},\"searchMuseumoftheAfricanDiaspora5\":{\"business\":[{\"name\":\"Museum of the African Diaspora\",\"photos\":[\"https://s3-media2.fl.yelpcdn.com/bphoto/2uMKlo_Plz1sUKIQDw594w/o.jpg\"],\"rating\":3.5,\"coordinates\":{\"latitude\":37.78643,\"longitude\":-122.40152},\"location\":{\"formatted_address\":\"685 Mission St\\nSan Francisco, CA 94105\"}}]},\"searchContemporaryJewishMuseum6\":{\"business\":[{\"name\":\"The Contemporary Jewish Museum\",\"photos\":[\"https://s3-media2.fl.yelpcdn.com/bphoto/-bEKpmWaLhg9W9phtZrn1g/o.jpg\"],\"rating\":3.5,\"coordinates\":{\"latitude\":37.785944,\"longitude\":-122.403802},\"location\":{\"formatted_address\":\"736 Mission St\\nSan Francisco, CA 94103\"}}]},\"searchLegionofHonor7\":{\"business\":[{\"name\":\"Legion of Honor Cafe\",\"photos\":[\"https://s3-media2.fl.yelpcdn.com/bphoto/DL11NhoJBuPOdPfI3nF_Tg/o.jpg\"],\"rating\":3.5,\"coordinates\":{\"latitude\":37.7857414,\"longitude\":-122.5001414},\"location\":{\"formatted_address\":\"100 34th Ave\\nGolden Gate Park\\nSan Francisco, CA 94121\"}}]},\"searchWaltDisneyFamilyMuseum8\":{\"business\":[{\"name\":\"The Walt Disney Family Museum\",\"photos\":[\"https://s3-media2.fl.yelpcdn.com/bphoto/HVtwgGW15aM7cJ92_zJvcQ/o.jpg\"],\"rating\":4.5,\"coordinates\":{\"latitude\":37.8012674039649,\"longitude\":-122.458299342152},\"location\":{\"formatted_address\":\"104 Montgomery St\\nSan Francisco, CA 94129\"}}]},\"searchSanFranciscoRailwayMuseum9\":{\"business\":[{\"name\":\"San Francisco Railway Museum & Gift Shop\",\"photos\":[\"https://s3-media1.fl.yelpcdn.com/bphoto/7zmrpxmNExxdmBoXo5m9LQ/o.jpg\"],\"rating\":4.0,\"coordinates\":{\"latitude\":37.79383552713406,\"longitude\":-122.39355464349222},\"location\":{\"formatted_address\":\"77 Steuart St\\nSan Francisco, CA 94105\"}}]}}}\n",
      "[{'name': 'San Francisco Museum of Modern Art', 'address': '151 3rd St San Francisco, CA 94103', 'photo': 'https://s3-media1.fl.yelpcdn.com/bphoto/TRvV2DUGQYrpT9FoiDiYrw/o.jpg', 'rating': 4.0, 'lat': 37.785716, 'lon': -122.40105}, {'name': 'California Academy of Sciences', 'address': '55 Music Concourse Dr San Francisco, CA 94118', 'photo': 'https://s3-media4.fl.yelpcdn.com/bphoto/_KhfOj3kE5zCMXEGcBvdGA/o.jpg', 'rating': 4.0, 'lat': 37.769816, 'lon': -122.466041}, {'name': 'Exploratorium Store', 'address': 'Pier 15 San Francisco, CA 94111', 'photo': 'https://s3-media4.fl.yelpcdn.com/bphoto/TFiK60DDBCpZKfaozyFWjA/o.jpg', 'rating': 4.0, 'lat': 37.8011969, 'lon': -122.3988986}, {'name': 'de Young Museum', 'address': '50 Hagiwara Tea Garden Dr Golden Gate Park San Francisco, CA 94118', 'photo': 'https://s3-media2.fl.yelpcdn.com/bphoto/QwmWojBUUp2ZpCabXv5q8Q/o.jpg', 'rating': 4.0, 'lat': 37.77132920111635, 'lon': -122.46838802066397}, {'name': 'Asian Art Museum', 'address': '200 Larkin St San Francisco, CA 94102', 'photo': 'https://s3-media2.fl.yelpcdn.com/bphoto/Qqqxey1v_fLcAjtRdh9s-g/o.jpg', 'rating': 4.5, 'lat': 37.7796308, 'lon': -122.4165973}, {'name': 'Museum of the African Diaspora', 'address': '685 Mission St San Francisco, CA 94105', 'photo': 'https://s3-media2.fl.yelpcdn.com/bphoto/2uMKlo_Plz1sUKIQDw594w/o.jpg', 'rating': 3.5, 'lat': 37.78643, 'lon': -122.40152}, {'name': 'The Contemporary Jewish Museum', 'address': '736 Mission St San Francisco, CA 94103', 'photo': 'https://s3-media2.fl.yelpcdn.com/bphoto/-bEKpmWaLhg9W9phtZrn1g/o.jpg', 'rating': 3.5, 'lat': 37.785944, 'lon': -122.403802}, {'name': 'Legion of Honor Cafe', 'address': '100 34th Ave Golden Gate Park San Francisco, CA 94121', 'photo': 'https://s3-media2.fl.yelpcdn.com/bphoto/DL11NhoJBuPOdPfI3nF_Tg/o.jpg', 'rating': 3.5, 'lat': 37.7857414, 'lon': -122.5001414}, {'name': 'The Walt Disney Family Museum', 'address': '104 Montgomery St San Francisco, CA 94129', 'photo': 'https://s3-media2.fl.yelpcdn.com/bphoto/HVtwgGW15aM7cJ92_zJvcQ/o.jpg', 'rating': 4.5, 'lat': 37.8012674039649, 'lon': -122.458299342152}, {'name': 'San Francisco Railway Museum & Gift Shop', 'address': '77 Steuart St San Francisco, CA 94105', 'photo': 'https://s3-media1.fl.yelpcdn.com/bphoto/7zmrpxmNExxdmBoXo5m9LQ/o.jpg', 'rating': 4.0, 'lat': 37.79383552713406, 'lon': -122.39355464349222}]\n"
     ]
    }
   ],
   "source": [
    "await attractions_wrapper(\"San Francisco, CA\", \"museum\")"
   ]
  }
 ],
 "metadata": {
  "kernelspec": {
   "display_name": "Python 3",
   "language": "python",
   "name": "python3"
  },
  "language_info": {
   "codemirror_mode": {
    "name": "ipython",
    "version": 3
   },
   "file_extension": ".py",
   "mimetype": "text/x-python",
   "name": "python",
   "nbconvert_exporter": "python",
   "pygments_lexer": "ipython3",
   "version": "3.11.5"
  }
 },
 "nbformat": 4,
 "nbformat_minor": 2
}
