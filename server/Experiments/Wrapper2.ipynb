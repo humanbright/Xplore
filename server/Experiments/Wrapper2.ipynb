{
 "cells": [
  {
   "cell_type": "markdown",
   "metadata": {},
   "source": [
    "<h2>Wrapper combining OpenAI, Melissa, Yelp</h2>"
   ]
  },
  {
   "cell_type": "code",
   "execution_count": 21,
   "metadata": {},
   "outputs": [
    {
     "name": "stdout",
     "output_type": "stream",
     "text": [
      "Note: you may need to restart the kernel to use updated packages.Requirement already satisfied: xmltodict in c:\\python3.11\\lib\\site-packages (0.13.0)\n",
      "Requirement already satisfied: openai in c:\\python3.11\\lib\\site-packages (1.10.0)\n",
      "Requirement already satisfied: anyio<5,>=3.5.0 in c:\\python3.11\\lib\\site-packages (from openai) (4.2.0)\n",
      "Requirement already satisfied: distro<2,>=1.7.0 in c:\\python3.11\\lib\\site-packages (from openai) (1.9.0)\n",
      "Requirement already satisfied: httpx<1,>=0.23.0 in c:\\python3.11\\lib\\site-packages (from openai) (0.26.0)\n",
      "Requirement already satisfied: pydantic<3,>=1.9.0 in c:\\python3.11\\lib\\site-packages (from openai) (2.5.3)\n",
      "Requirement already satisfied: sniffio in c:\\python3.11\\lib\\site-packages (from openai) (1.3.0)\n",
      "Requirement already satisfied: tqdm>4 in c:\\python3.11\\lib\\site-packages (from openai) (4.66.1)\n",
      "Requirement already satisfied: typing-extensions<5,>=4.7 in c:\\python3.11\\lib\\site-packages (from openai) (4.9.0)\n",
      "Requirement already satisfied: idna>=2.8 in c:\\python3.11\\lib\\site-packages (from anyio<5,>=3.5.0->openai) (3.4)\n",
      "Requirement already satisfied: certifi in c:\\python3.11\\lib\\site-packages (from httpx<1,>=0.23.0->openai) (2023.7.22)\n",
      "Requirement already satisfied: httpcore==1.* in c:\\python3.11\\lib\\site-packages (from httpx<1,>=0.23.0->openai) (1.0.2)\n",
      "Requirement already satisfied: h11<0.15,>=0.13 in c:\\python3.11\\lib\\site-packages (from httpcore==1.*->httpx<1,>=0.23.0->openai) (0.14.0)\n",
      "Requirement already satisfied: annotated-types>=0.4.0 in c:\\python3.11\\lib\\site-packages (from pydantic<3,>=1.9.0->openai) (0.6.0)\n",
      "Requirement already satisfied: pydantic-core==2.14.6 in c:\\python3.11\\lib\\site-packages (from pydantic<3,>=1.9.0->openai) (2.14.6)\n",
      "Requirement already satisfied: colorama in c:\\users\\jr\\appdata\\roaming\\python\\python311\\site-packages (from tqdm>4->openai) (0.4.6)\n",
      "\n"
     ]
    },
    {
     "name": "stderr",
     "output_type": "stream",
     "text": [
      "\n",
      "[notice] A new release of pip is available: 23.2.1 -> 23.3.2\n",
      "[notice] To update, run: python.exe -m pip install --upgrade pip\n"
     ]
    }
   ],
   "source": [
    "pip install xmltodict openai"
   ]
  },
  {
   "cell_type": "code",
   "execution_count": 22,
   "metadata": {},
   "outputs": [
    {
     "name": "stdout",
     "output_type": "stream",
     "text": [
      "Requirement already satisfied: python-dotenv in c:\\python3.11\\lib\\site-packages (1.0.1)\n",
      "Note: you may need to restart the kernel to use updated packages.\n"
     ]
    },
    {
     "name": "stderr",
     "output_type": "stream",
     "text": [
      "\n",
      "[notice] A new release of pip is available: 23.2.1 -> 23.3.2\n",
      "[notice] To update, run: python.exe -m pip install --upgrade pip\n"
     ]
    }
   ],
   "source": [
    "pip install python-dotenv"
   ]
  },
  {
   "cell_type": "code",
   "execution_count": 23,
   "metadata": {},
   "outputs": [
    {
     "data": {
      "text/plain": [
       "True"
      ]
     },
     "execution_count": 23,
     "metadata": {},
     "output_type": "execute_result"
    }
   ],
   "source": [
    "import urllib.request, urllib.parse, os, json, xmltodict, asyncio, requests\n",
    "from openai import AsyncOpenAI\n",
    "from dotenv import load_dotenv\n",
    "load_dotenv()\n"
   ]
  },
  {
   "cell_type": "code",
   "execution_count": 24,
   "metadata": {},
   "outputs": [],
   "source": [
    "async def openai_wrapper(location, preferences = \"\"):\n",
    "    # Get a list of 10 locations form OpenAI api\n",
    "    openai_client = AsyncOpenAI(api_key=os.environ.get(\"OPENAI_API_KEY\"))\n",
    "    chat_completion = await openai_client.chat.completions.create(\n",
    "        model=\"gpt-4-turbo-preview\",\n",
    "        response_format={ \"type\": \"json_object\" },\n",
    "        messages=[\n",
    "            {\"role\": \"system\", \"content\": \"You are a helpful travel assistant designed to output JSON containing a list of objects that have atrribute name and address.\"},\n",
    "            {\"role\": \"user\", \"content\": f\"I am traveling to {location}, and I want to visit attractions around this area that fit these criteria: {preferences}. Generate a list of 10 attraction objects and return each attraction name and entire address\"}\n",
    "        ],\n",
    "    )\n",
    "    return json.loads(chat_completion.choices[0].message.content)[\"attractions\"]"
   ]
  },
  {
   "cell_type": "code",
   "execution_count": 25,
   "metadata": {},
   "outputs": [],
   "source": [
    "async def yelp_wrapper(location, term = \"attractions\", radius = 20000, sort_by = \"best_match\", limit = 20):\n",
    "    # Get a list of 20 locations form Yelp api\n",
    "    params = {\n",
    "        \"location\": location,\n",
    "        \"term\": term,\n",
    "        \"radius\": radius,\n",
    "        \"sort_by\": sort_by,\n",
    "        \"limit\": limit\n",
    "    }\n",
    "    yelp_url = f\"https://api.yelp.com/v3/businesses/search?{urllib.parse.urlencode(params)}\"\n",
    "    yelp_header = {\n",
    "        \"accept\": \"application/json\",\n",
    "        \"Authorization\": f\"Bearer {os.getenv('YELP_API_KEY')}\"\n",
    "    }\n",
    "    response = await asyncio.to_thread(requests.get, yelp_url, headers = yelp_header)\n",
    "    if response.status_code == 200:\n",
    "        yelp_locations = response.json()\n",
    "    else:\n",
    "        response.raise_for_status()\n",
    "    return yelp_locations\n",
    "    "
   ]
  },
  {
   "cell_type": "code",
   "execution_count": 30,
   "metadata": {},
   "outputs": [],
   "source": [
    "async def api_wrapper(location, preferences=\"\"):\n",
    "    # Run both openai_wrapper and yelp_wrapper concurrently\n",
    "    openai_result, yelp_result = await asyncio.gather(\n",
    "        openai_wrapper(location, preferences),\n",
    "        yelp_wrapper(location, preferences)\n",
    "    )\n",
    "    return {\"OpenAI\": openai_result, \"Yelp\": yelp_result}"
   ]
  },
  {
   "cell_type": "code",
   "execution_count": 32,
   "metadata": {},
   "outputs": [
    {
     "name": "stdout",
     "output_type": "stream",
     "text": [
      "{'Yelp': {'businesses': [{'id': 'Z6gkivXc4B_eG5oj4OgaxQ', 'alias': 'computer-history-museum-mountain-view', 'name': 'Computer History Museum', 'image_url': 'https://s3-media1.fl.yelpcdn.com/bphoto/TFjFch8js4Gz33QW5biwOQ/o.jpg', 'is_closed': False, 'url': 'https://www.yelp.com/biz/computer-history-museum-mountain-view?adjust_creative=spgT8FBiP7sP9-7-q3Wy6Q&utm_campaign=yelp_api_v3&utm_medium=api_v3_business_search&utm_source=spgT8FBiP7sP9-7-q3Wy6Q', 'review_count': 357, 'categories': [{'alias': 'museums', 'title': 'Museums'}], 'rating': 4.5, 'coordinates': {'latitude': 37.41428183615418, 'longitude': -122.07740497882996}, 'transactions': [], 'location': {'address1': '1401 N Shoreline Blvd', 'address2': '', 'address3': '', 'city': 'Mountain View', 'zip_code': '94043', 'country': 'US', 'state': 'CA', 'display_address': ['1401 N Shoreline Blvd', 'Mountain View, CA 94043']}, 'phone': '+16508101010', 'display_phone': '(650) 810-1010', 'distance': 17624.413409156747}, {'id': 'YVt1YFiLeldQrNXC5S93Og', 'alias': 'palo-alto-junior-museum-and-zoo-palo-alto-2', 'name': 'Palo Alto Junior Museum & Zoo', 'image_url': 'https://s3-media2.fl.yelpcdn.com/bphoto/yWNI2W_oREUxrBQCl7l3eg/o.jpg', 'is_closed': False, 'url': 'https://www.yelp.com/biz/palo-alto-junior-museum-and-zoo-palo-alto-2?adjust_creative=spgT8FBiP7sP9-7-q3Wy6Q&utm_campaign=yelp_api_v3&utm_medium=api_v3_business_search&utm_source=spgT8FBiP7sP9-7-q3Wy6Q', 'review_count': 347, 'categories': [{'alias': 'zoos', 'title': 'Zoos'}, {'alias': 'childrensmuseums', 'title': \"Children's Museums\"}, {'alias': 'kids_activities', 'title': 'Kids Activities'}], 'rating': 4.5, 'coordinates': {'latitude': 37.44358629800601, 'longitude': -122.14437541923996}, 'transactions': [], 'location': {'address1': '1451 Middlefield Rd', 'address2': None, 'address3': '', 'city': 'Palo Alto', 'zip_code': '94301', 'country': 'US', 'state': 'CA', 'display_address': ['1451 Middlefield Rd', 'Palo Alto, CA 94301']}, 'phone': '+16503292111', 'display_phone': '(650) 329-2111', 'distance': 17610.661934100906}, {'id': 'XGpbllcsDXAcJx1orYZs4g', 'alias': 'niles-essanay-silent-film-museum-fremont', 'name': 'Niles Essanay Silent Film Museum', 'image_url': 'https://s3-media4.fl.yelpcdn.com/bphoto/7CRiD8foCsI7bJPPBLbWeA/o.jpg', 'is_closed': False, 'url': 'https://www.yelp.com/biz/niles-essanay-silent-film-museum-fremont?adjust_creative=spgT8FBiP7sP9-7-q3Wy6Q&utm_campaign=yelp_api_v3&utm_medium=api_v3_business_search&utm_source=spgT8FBiP7sP9-7-q3Wy6Q', 'review_count': 97, 'categories': [{'alias': 'museums', 'title': 'Museums'}, {'alias': 'theater', 'title': 'Performing Arts'}, {'alias': 'movietheaters', 'title': 'Cinema'}], 'rating': 4.5, 'coordinates': {'latitude': 37.5769, 'longitude': -121.98022}, 'transactions': [], 'location': {'address1': '37417 Niles Blvd', 'address2': None, 'address3': '', 'city': 'Fremont', 'zip_code': '94536', 'country': 'US', 'state': 'CA', 'display_address': ['37417 Niles Blvd', 'Fremont, CA 94536']}, 'phone': '+15104941411', 'display_phone': '(510) 494-1411', 'distance': 3455.8779897627137}, {'id': 'lr1fwhgw2rkr3jSvsJRLBw', 'alias': 'annual-holiday-lego-show-palo-alto', 'name': 'Annual Holiday LEGO Show', 'image_url': 'https://s3-media4.fl.yelpcdn.com/bphoto/6PIceHbVli-gekgjl9AEdA/o.jpg', 'is_closed': False, 'url': 'https://www.yelp.com/biz/annual-holiday-lego-show-palo-alto?adjust_creative=spgT8FBiP7sP9-7-q3Wy6Q&utm_campaign=yelp_api_v3&utm_medium=api_v3_business_search&utm_source=spgT8FBiP7sP9-7-q3Wy6Q', 'review_count': 8, 'categories': [{'alias': 'festivals', 'title': 'Festivals'}], 'rating': 4.0, 'coordinates': {'latitude': 37.444457, 'longitude': -122.157528}, 'transactions': [], 'location': {'address1': '351 Homer Ave', 'address2': '', 'address3': None, 'city': 'Palo Alto', 'zip_code': '94301', 'country': 'US', 'state': 'CA', 'display_address': ['351 Homer Ave', 'Palo Alto, CA 94301']}, 'phone': '', 'display_phone': '', 'distance': 18304.64986825462}, {'id': 'R1D-cs_RfLe3eocfHHDINQ', 'alias': 'intel-museum-santa-clara', 'name': 'Intel Museum', 'image_url': 'https://s3-media2.fl.yelpcdn.com/bphoto/gM8u6Cd439eBi6ncchSsVw/o.jpg', 'is_closed': False, 'url': 'https://www.yelp.com/biz/intel-museum-santa-clara?adjust_creative=spgT8FBiP7sP9-7-q3Wy6Q&utm_campaign=yelp_api_v3&utm_medium=api_v3_business_search&utm_source=spgT8FBiP7sP9-7-q3Wy6Q', 'review_count': 81, 'categories': [{'alias': 'museums', 'title': 'Museums'}], 'rating': 4.0, 'coordinates': {'latitude': 37.387630819860874, 'longitude': -121.9635444734124}, 'transactions': [], 'location': {'address1': '2200 Mission College Blvd', 'address2': '', 'address3': '', 'city': 'Santa Clara', 'zip_code': '95054', 'country': 'US', 'state': 'CA', 'display_address': ['2200 Mission College Blvd', 'Santa Clara, CA 95054']}, 'phone': '+14087655050', 'display_phone': '(408) 765-5050', 'distance': 20297.08543336962}, {'id': 'i0Yab9It3e4EzaX-CmK_tg', 'alias': 'hayward-area-historical-society-hayward-2', 'name': 'Hayward Area Historical Society', 'image_url': 'https://s3-media1.fl.yelpcdn.com/bphoto/U7XRWgh6o2eMklay5SoIvg/o.jpg', 'is_closed': False, 'url': 'https://www.yelp.com/biz/hayward-area-historical-society-hayward-2?adjust_creative=spgT8FBiP7sP9-7-q3Wy6Q&utm_campaign=yelp_api_v3&utm_medium=api_v3_business_search&utm_source=spgT8FBiP7sP9-7-q3Wy6Q', 'review_count': 27, 'categories': [{'alias': 'museums', 'title': 'Museums'}], 'rating': 4.5, 'coordinates': {'latitude': 37.676674, 'longitude': -122.082422}, 'transactions': [], 'location': {'address1': '22380 Foothill Blvd', 'address2': '', 'address3': '', 'city': 'Hayward', 'zip_code': '94541', 'country': 'US', 'state': 'CA', 'display_address': ['22380 Foothill Blvd', 'Hayward, CA 94541']}, 'phone': '+15105810223', 'display_phone': '(510) 581-0223', 'distance': 13680.166636733939}, {'id': 'oSewQrpZ1CkIWgHzS5y86g', 'alias': 'the-museum-of-american-heritage-palo-alto', 'name': 'The Museum of American Heritage', 'image_url': 'https://s3-media4.fl.yelpcdn.com/bphoto/b6KhOuQjW-wj5xubcx_eLw/o.jpg', 'is_closed': False, 'url': 'https://www.yelp.com/biz/the-museum-of-american-heritage-palo-alto?adjust_creative=spgT8FBiP7sP9-7-q3Wy6Q&utm_campaign=yelp_api_v3&utm_medium=api_v3_business_search&utm_source=spgT8FBiP7sP9-7-q3Wy6Q', 'review_count': 35, 'categories': [{'alias': 'museums', 'title': 'Museums'}, {'alias': 'nonprofit', 'title': 'Community Service/Non-Profit'}], 'rating': 4.5, 'coordinates': {'latitude': 37.444522, 'longitude': -122.157458}, 'transactions': [], 'location': {'address1': '351 Homer Ave', 'address2': '', 'address3': '', 'city': 'Palo Alto', 'zip_code': '94301', 'country': 'US', 'state': 'CA', 'display_address': ['351 Homer Ave', 'Palo Alto, CA 94301']}, 'phone': '+16503211004', 'display_phone': '(650) 321-1004', 'distance': 18294.349433864747}, {'id': 'K_ni9PoS8rDbdxx44dTLWQ', 'alias': 'coyote-hills-visitor-center-fremont', 'name': 'Coyote Hills Visitor Center', 'image_url': 'https://s3-media4.fl.yelpcdn.com/bphoto/_XZKfNRSLMVTyo2OzNYatA/o.jpg', 'is_closed': False, 'url': 'https://www.yelp.com/biz/coyote-hills-visitor-center-fremont?adjust_creative=spgT8FBiP7sP9-7-q3Wy6Q&utm_campaign=yelp_api_v3&utm_medium=api_v3_business_search&utm_source=spgT8FBiP7sP9-7-q3Wy6Q', 'review_count': 3, 'categories': [{'alias': 'museums', 'title': 'Museums'}], 'rating': 4.5, 'coordinates': {'latitude': 37.55585, 'longitude': -122.07082}, 'transactions': [], 'location': {'address1': '8000 Patterson Ranch Rd', 'address2': '', 'address3': None, 'city': 'Fremont', 'zip_code': '94555', 'country': 'US', 'state': 'CA', 'display_address': ['8000 Patterson Ranch Rd', 'Fremont, CA 94555']}, 'phone': '+15105443220', 'display_phone': '(510) 544-3220', 'distance': 6682.7181055006495}, {'id': 'HJhysEmuKKjWWydglizGrw', 'alias': 'levis-stadium-santa-clara', 'name': \"Levi's Stadium\", 'image_url': 'https://s3-media3.fl.yelpcdn.com/bphoto/6l9ewK37Hr9e0GM04c01uw/o.jpg', 'is_closed': False, 'url': 'https://www.yelp.com/biz/levis-stadium-santa-clara?adjust_creative=spgT8FBiP7sP9-7-q3Wy6Q&utm_campaign=yelp_api_v3&utm_medium=api_v3_business_search&utm_source=spgT8FBiP7sP9-7-q3Wy6Q', 'review_count': 1583, 'categories': [{'alias': 'stadiumsarenas', 'title': 'Stadiums & Arenas'}], 'rating': 2.5, 'coordinates': {'latitude': 37.403319481674686, 'longitude': -121.96937885562004}, 'transactions': [], 'location': {'address1': '4900 Marie P Debartolo Way', 'address2': '', 'address3': '', 'city': 'Santa Clara', 'zip_code': '95054', 'country': 'US', 'state': 'CA', 'display_address': ['4900 Marie P Debartolo Way', 'Santa Clara, CA 95054']}, 'phone': '+14154649377', 'display_phone': '(415) 464-9377', 'distance': 18481.055025508947}, {'id': '-ezOT9WvuZVQYWEG_w3USg', 'alias': '49ers-museum-santa-clara', 'name': '49ers Museum', 'image_url': 'https://s3-media3.fl.yelpcdn.com/bphoto/GJXqv7g3r2sJGUzM37WrSw/o.jpg', 'is_closed': False, 'url': 'https://www.yelp.com/biz/49ers-museum-santa-clara?adjust_creative=spgT8FBiP7sP9-7-q3Wy6Q&utm_campaign=yelp_api_v3&utm_medium=api_v3_business_search&utm_source=spgT8FBiP7sP9-7-q3Wy6Q', 'review_count': 44, 'categories': [{'alias': 'museums', 'title': 'Museums'}], 'rating': 4.5, 'coordinates': {'latitude': 37.4040699, 'longitude': -121.970446}, 'transactions': [], 'location': {'address1': '4900 Marie P DeBartolo Way', 'address2': '', 'address3': \"Levi's Stadium\", 'city': 'Santa Clara', 'zip_code': '95054', 'country': 'US', 'state': 'CA', 'display_address': ['4900 Marie P DeBartolo Way', \"Levi's Stadium\", 'Santa Clara, CA 95054']}, 'phone': '+18007453000', 'display_phone': '(800) 745-3000', 'distance': 18378.68558633003}], 'total': 10, 'region': {'center': {'longitude': -122.01656341552734, 'latitude': 37.56525149649079}}}}\n"
     ]
    }
   ],
   "source": [
    "print(await api_wrapper(\"American High School, Fremont\", \"technology museum\"))"
   ]
  }
 ],
 "metadata": {
  "kernelspec": {
   "display_name": "Python 3",
   "language": "python",
   "name": "python3"
  },
  "language_info": {
   "codemirror_mode": {
    "name": "ipython",
    "version": 3
   },
   "file_extension": ".py",
   "mimetype": "text/x-python",
   "name": "python",
   "nbconvert_exporter": "python",
   "pygments_lexer": "ipython3",
   "version": "3.11.5"
  }
 },
 "nbformat": 4,
 "nbformat_minor": 2
}
