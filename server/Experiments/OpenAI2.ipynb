{
 "cells": [
  {
   "cell_type": "code",
   "execution_count": 6,
   "metadata": {},
   "outputs": [
    {
     "name": "stdout",
     "output_type": "stream",
     "text": [
      "Requirement already satisfied: openai in c:\\python3.11\\lib\\site-packages (1.10.0)Note: you may need to restart the kernel to use updated packages.\n",
      "\n",
      "Requirement already satisfied: anyio<5,>=3.5.0 in c:\\python3.11\\lib\\site-packages (from openai) (4.2.0)\n",
      "Requirement already satisfied: distro<2,>=1.7.0 in c:\\python3.11\\lib\\site-packages (from openai) (1.9.0)\n",
      "Requirement already satisfied: httpx<1,>=0.23.0 in c:\\python3.11\\lib\\site-packages (from openai) (0.26.0)\n",
      "Requirement already satisfied: pydantic<3,>=1.9.0 in c:\\python3.11\\lib\\site-packages (from openai) (2.5.3)\n",
      "Requirement already satisfied: sniffio in c:\\python3.11\\lib\\site-packages (from openai) (1.3.0)\n",
      "Requirement already satisfied: tqdm>4 in c:\\python3.11\\lib\\site-packages (from openai) (4.66.1)\n",
      "Requirement already satisfied: typing-extensions<5,>=4.7 in c:\\python3.11\\lib\\site-packages (from openai) (4.9.0)\n",
      "Requirement already satisfied: idna>=2.8 in c:\\python3.11\\lib\\site-packages (from anyio<5,>=3.5.0->openai) (3.4)\n",
      "Requirement already satisfied: certifi in c:\\python3.11\\lib\\site-packages (from httpx<1,>=0.23.0->openai) (2023.7.22)\n",
      "Requirement already satisfied: httpcore==1.* in c:\\python3.11\\lib\\site-packages (from httpx<1,>=0.23.0->openai) (1.0.2)\n",
      "Requirement already satisfied: h11<0.15,>=0.13 in c:\\python3.11\\lib\\site-packages (from httpcore==1.*->httpx<1,>=0.23.0->openai) (0.14.0)\n",
      "Requirement already satisfied: annotated-types>=0.4.0 in c:\\python3.11\\lib\\site-packages (from pydantic<3,>=1.9.0->openai) (0.6.0)\n",
      "Requirement already satisfied: pydantic-core==2.14.6 in c:\\python3.11\\lib\\site-packages (from pydantic<3,>=1.9.0->openai) (2.14.6)\n",
      "Requirement already satisfied: colorama in c:\\users\\jr\\appdata\\roaming\\python\\python311\\site-packages (from tqdm>4->openai) (0.4.6)\n"
     ]
    },
    {
     "name": "stderr",
     "output_type": "stream",
     "text": [
      "\n",
      "[notice] A new release of pip is available: 23.2.1 -> 23.3.2\n",
      "[notice] To update, run: python.exe -m pip install --upgrade pip\n"
     ]
    }
   ],
   "source": [
    "pip install openai"
   ]
  },
  {
   "cell_type": "code",
   "execution_count": 5,
   "metadata": {},
   "outputs": [
    {
     "name": "stdout",
     "output_type": "stream",
     "text": [
      "Note: you may need to restart the kernel to use updated packages.\n"
     ]
    },
    {
     "name": "stderr",
     "output_type": "stream",
     "text": [
      "\n",
      "[notice] A new release of pip is available: 23.2.1 -> 23.3.2\n",
      "[notice] To update, run: python.exe -m pip install --upgrade pip\n"
     ]
    },
    {
     "name": "stdout",
     "output_type": "stream",
     "text": [
      "Requirement already satisfied: python-dotenv in c:\\python3.11\\lib\\site-packages (1.0.1)\n"
     ]
    }
   ],
   "source": [
    "pip install python-dotenv"
   ]
  },
  {
   "cell_type": "code",
   "execution_count": 11,
   "metadata": {},
   "outputs": [],
   "source": [
    "from openai import OpenAI"
   ]
  },
  {
   "cell_type": "code",
   "execution_count": 36,
   "metadata": {},
   "outputs": [],
   "source": [
    "import os, json\n",
    "from dotenv import load_dotenv\n",
    "load_dotenv()\n",
    "\n",
    "def create_client():\n",
    "    return OpenAI(\n",
    "        api_key=os.environ.get(\"OPENAI_API_KEY\"),\n",
    "    )\n",
    "\n",
    "def setup_content(location: str, preferences: str):\n",
    "    return f\"I am traveling to {location}, and I want to visit attractions around this area that fit these criteria: {preferences}. Generate a list of 10 attraction objects and return each attraction name and entire address\" \n",
    "\n",
    "def get_response(client, content: str):\n",
    "    return client.chat.completions.create(\n",
    "        model=\"gpt-4-turbo-preview\",\n",
    "        response_format={ \"type\": \"json_object\" },\n",
    "        messages=[\n",
    "            {\"role\": \"system\", \"content\": \"You are a helpful travel assistant designed to output JSON containing a list of objects that have atrribute name and address.\"},\n",
    "            {\"role\": \"user\", \"content\": content,}\n",
    "        ],\n",
    "    )\n",
    "\n",
    "def get_locations(chat_completion: 'ChatCompletion'):\n",
    "    return json.loads(chat_completion.choices[0].message.content)[\"attractions\"]\n"
   ]
  },
  {
   "cell_type": "code",
   "execution_count": 17,
   "metadata": {},
   "outputs": [
    {
     "name": "stdout",
     "output_type": "stream",
     "text": [
      "ChatCompletion(id='chatcmpl-8lY7VmLseu6JnBBzj9r27S6pVHxWa', choices=[Choice(finish_reason='stop', index=0, logprobs=None, message=ChatCompletionMessage(content='{\\n  \"attractions\": [\\n    {\\n      \"name\": \"The Metropolitan Museum of Art\",\\n      \"address\": \"1000 5th Ave, New York, NY 10028, United States\"\\n    },\\n    {\\n      \"name\": \"Museum of Modern Art (MoMA)\",\\n      \"address\": \"11 W 53rd St, New York, NY 10019, United States\"\\n    },\\n    {\\n      \"name\": \"American Museum of Natural History\",\\n      \"address\": \"Central Park West & 79th St, New York, NY 10024, United States\"\\n    },\\n    {\\n      \"name\": \"Solomon R. Guggenheim Museum\",\\n      \"address\": \"1071 5th Ave, New York, NY 10128, United States\"\\n    },\\n    {\\n      \"name\": \"Whitney Museum of American Art\",\\n      \"address\": \"99 Gansevoort St, New York, NY 10014, United States\"\\n    },\\n    {\\n      \"name\": \"The Frick Collection\",\\n      \"address\": \"1 E 70th St, New York, NY 10021, United States\"\\n    },\\n    {\\n      \"name\": \"New Museum\",\\n      \"address\": \"235 Bowery, New York, NY 10002, United States\"\\n    },\\n    {\\n      \"name\": \"Brooklyn Museum\",\\n      \"address\": \"200 Eastern Pkwy, Brooklyn, NY 11238, United States\"\\n    },\\n    {\\n      \"name\": \"The Museum of the City of New York\",\\n      \"address\": \"1220 5th Ave & 103rd St, New York, NY 10029, United States\"\\n    },\\n    {\\n      \"name\": \"Rubin Museum of Art\",\\n      \"address\": \"150 W 17th St, New York, NY 10011, United States\"\\n    }\\n  ]\\n}', role='assistant', function_call=None, tool_calls=None))], created=1706343265, model='gpt-4-0125-preview', object='chat.completion', system_fingerprint='fp_376b7f78b9', usage=CompletionUsage(completion_tokens=397, prompt_tokens=74, total_tokens=471))\n",
      "<class 'openai.types.chat.chat_completion.ChatCompletion'>\n"
     ]
    }
   ],
   "source": [
    "client = create_client()\n",
    "content = setup_content(\"New York\", \"museums\")\n",
    "response = get_response(client, content)"
   ]
  },
  {
   "cell_type": "code",
   "execution_count": 38,
   "metadata": {},
   "outputs": [
    {
     "name": "stdout",
     "output_type": "stream",
     "text": [
      "[{'name': 'The Metropolitan Museum of Art', 'address': '1000 5th Ave, New York, NY 10028, United States'}, {'name': 'Museum of Modern Art (MoMA)', 'address': '11 W 53rd St, New York, NY 10019, United States'}, {'name': 'American Museum of Natural History', 'address': 'Central Park West & 79th St, New York, NY 10024, United States'}, {'name': 'Solomon R. Guggenheim Museum', 'address': '1071 5th Ave, New York, NY 10128, United States'}, {'name': 'Whitney Museum of American Art', 'address': '99 Gansevoort St, New York, NY 10014, United States'}, {'name': 'The Frick Collection', 'address': '1 E 70th St, New York, NY 10021, United States'}, {'name': 'New Museum', 'address': '235 Bowery, New York, NY 10002, United States'}, {'name': 'Brooklyn Museum', 'address': '200 Eastern Pkwy, Brooklyn, NY 11238, United States'}, {'name': 'The Museum of the City of New York', 'address': '1220 5th Ave & 103rd St, New York, NY 10029, United States'}, {'name': 'Rubin Museum of Art', 'address': '150 W 17th St, New York, NY 10011, United States'}]\n"
     ]
    }
   ],
   "source": [
    "locations = get_locations(response)\n",
    "print(locations)\n"
   ]
  }
 ],
 "metadata": {
  "kernelspec": {
   "display_name": "Python 3",
   "language": "python",
   "name": "python3"
  },
  "language_info": {
   "codemirror_mode": {
    "name": "ipython",
    "version": 3
   },
   "file_extension": ".py",
   "mimetype": "text/x-python",
   "name": "python",
   "nbconvert_exporter": "python",
   "pygments_lexer": "ipython3",
   "version": "3.11.5"
  }
 },
 "nbformat": 4,
 "nbformat_minor": 2
}
