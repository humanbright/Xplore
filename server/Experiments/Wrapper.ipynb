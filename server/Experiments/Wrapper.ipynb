{
 "cells": [
  {
   "cell_type": "markdown",
   "metadata": {},
   "source": [
    "<h2>Wrapper combining OpenAI, Melissa, Yelp</h2>"
   ]
  },
  {
   "cell_type": "code",
   "execution_count": 5,
   "metadata": {},
   "outputs": [
    {
     "name": "stdout",
     "output_type": "stream",
     "text": [
      "Requirement already satisfied: xmltodict in c:\\python3.11\\lib\\site-packages (0.13.0)\n",
      "Requirement already satisfied: openai in c:\\python3.11\\lib\\site-packages (1.10.0)\n",
      "Requirement already satisfied: anyio<5,>=3.5.0 in c:\\python3.11\\lib\\site-packages (from openai) (4.2.0)\n",
      "Requirement already satisfied: distro<2,>=1.7.0 in c:\\python3.11\\lib\\site-packages (from openai) (1.9.0)\n",
      "Requirement already satisfied: httpx<1,>=0.23.0 in c:\\python3.11\\lib\\site-packages (from openai) (0.26.0)\n",
      "Requirement already satisfied: pydantic<3,>=1.9.0 in c:\\python3.11\\lib\\site-packages (from openai) (2.5.3)\n",
      "Requirement already satisfied: sniffio in c:\\python3.11\\lib\\site-packages (from openai) (1.3.0)\n",
      "Requirement already satisfied: tqdm>4 in c:\\python3.11\\lib\\site-packages (from openai) (4.66.1)\n",
      "Requirement already satisfied: typing-extensions<5,>=4.7 in c:\\python3.11\\lib\\site-packages (from openai) (4.9.0)\n",
      "Requirement already satisfied: idna>=2.8 in c:\\python3.11\\lib\\site-packages (from anyio<5,>=3.5.0->openai) (3.4)\n",
      "Requirement already satisfied: certifi in c:\\python3.11\\lib\\site-packages (from httpx<1,>=0.23.0->openai) (2023.7.22)\n",
      "Requirement already satisfied: httpcore==1.* in c:\\python3.11\\lib\\site-packages (from httpx<1,>=0.23.0->openai) (1.0.2)\n",
      "Requirement already satisfied: h11<0.15,>=0.13 in c:\\python3.11\\lib\\site-packages (from httpcore==1.*->httpx<1,>=0.23.0->openai) (0.14.0)\n",
      "Requirement already satisfied: annotated-types>=0.4.0 in c:\\python3.11\\lib\\site-packages (from pydantic<3,>=1.9.0->openai) (0.6.0)\n",
      "Requirement already satisfied: pydantic-core==2.14.6 in c:\\python3.11\\lib\\site-packages (from pydantic<3,>=1.9.0->openai) (2.14.6)\n",
      "Requirement already satisfied: colorama in c:\\users\\jr\\appdata\\roaming\\python\\python311\\site-packages (from tqdm>4->openai) (0.4.6)\n",
      "Note: you may need to restart the kernel to use updated packages.\n"
     ]
    },
    {
     "name": "stderr",
     "output_type": "stream",
     "text": [
      "\n",
      "[notice] A new release of pip is available: 23.2.1 -> 23.3.2\n",
      "[notice] To update, run: python.exe -m pip install --upgrade pip\n"
     ]
    }
   ],
   "source": [
    "pip install xmltodict openai"
   ]
  },
  {
   "cell_type": "code",
   "execution_count": 6,
   "metadata": {},
   "outputs": [
    {
     "data": {
      "text/plain": [
       "True"
      ]
     },
     "execution_count": 6,
     "metadata": {},
     "output_type": "execute_result"
    }
   ],
   "source": [
    "import urllib.request, urllib.parse, os, json, xmltodict\n",
    "from openai import AsyncOpenAI\n",
    "from dotenv import load_dotenv\n",
    "load_dotenv()\n"
   ]
  },
  {
   "cell_type": "code",
   "execution_count": 11,
   "metadata": {},
   "outputs": [],
   "source": [
    "def api_wrapper(location, preferences = \"\", **kwargs):\n",
    "    \n",
    "    # Get a list of 10 locations form OpenAI api\n",
    "    openai_client = OpenAI(api_key=os.environ.get(\"OPENAI_API_KEY\"))\n",
    "    chat_completion = openai_client.chat.completions.create(\n",
    "        model=\"gpt-4-turbo-preview\",\n",
    "        response_format={ \"type\": \"json_object\" },\n",
    "        messages=[\n",
    "            {\"role\": \"system\", \"content\": \"You are a helpful travel assistant designed to output JSON containing a list of objects that have atrribute name and address.\"},\n",
    "            {\"role\": \"user\", \"content\": f\"I am traveling to {location}, and I want to visit attractions around this area that fit these criteria: {preferences}. Generate a list of 10 attraction objects and return each attraction name and entire address\"}\n",
    "        ],\n",
    "    )\n",
    "    openai_locations = json.loads(chat_completion.choices[0].message.content)[\"attractions\"]\n",
    "    print(openai_locations)\n",
    "    \n",
    "    "
   ]
  },
  {
   "cell_type": "code",
   "execution_count": 12,
   "metadata": {},
   "outputs": [
    {
     "name": "stdout",
     "output_type": "stream",
     "text": [
      "[{'name': 'Statue of Liberty', 'address': 'Liberty Island, New York, NY 10004, USA'}, {'name': 'Central Park', 'address': 'New York, NY, USA'}, {'name': 'Empire State Building', 'address': '20 W 34th St, New York, NY 10118, USA'}, {'name': 'The Metropolitan Museum of Art', 'address': '1000 5th Ave, New York, NY 10028, USA'}, {'name': 'Times Square', 'address': 'Manhattan, NY 10036, USA'}, {'name': 'Brooklyn Bridge', 'address': 'New York, NY 10038, USA'}, {'name': 'One World Observatory', 'address': '117 West St, New York, NY 10006, USA'}, {'name': 'The High Line', 'address': 'New York, NY 10011, USA'}, {'name': 'Museum of Modern Art (MoMA)', 'address': '11 W 53rd St, New York, NY 10019, USA'}, {'name': 'Rockefeller Center', 'address': '45 Rockefeller Plaza, New York, NY 10111, USA'}]\n"
     ]
    }
   ],
   "source": [
    "api_wrapper(\"New York City\")"
   ]
  }
 ],
 "metadata": {
  "kernelspec": {
   "display_name": "Python 3",
   "language": "python",
   "name": "python3"
  },
  "language_info": {
   "codemirror_mode": {
    "name": "ipython",
    "version": 3
   },
   "file_extension": ".py",
   "mimetype": "text/x-python",
   "name": "python",
   "nbconvert_exporter": "python",
   "pygments_lexer": "ipython3",
   "version": "3.11.5"
  }
 },
 "nbformat": 4,
 "nbformat_minor": 2
}
